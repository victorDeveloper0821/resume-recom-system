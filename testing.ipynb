{
 "cells": [
  {
   "cell_type": "code",
   "execution_count": 2,
   "id": "f87f0d60",
   "metadata": {},
   "outputs": [],
   "source": [
    "import pandas as pd\n",
    "\n",
    "df = pd.read_csv(\"Resume.csv\")\n",
    "df = df.head(4)"
   ]
  },
  {
   "cell_type": "code",
   "execution_count": 3,
   "id": "1a99e748",
   "metadata": {},
   "outputs": [],
   "source": [
    "df.to_csv(\"fixed_data.csv\")"
   ]
  },
  {
   "cell_type": "code",
   "execution_count": 6,
   "id": "62f24344",
   "metadata": {},
   "outputs": [
    {
     "name": "stdout",
     "output_type": "stream",
     "text": [
      "Data successfully saved to test_data.json\n",
      "MongoDB connection closed\n"
     ]
    }
   ],
   "source": [
    "from pymongo import MongoClient\n",
    "from bson import json_util\n",
    "import json\n",
    "# Connection URI (replace with your MongoDB connection string)\n",
    "uri = \"mongodb://localhost:27017\"  # Local MongoDB\n",
    "# For MongoDB Atlas, use: \"mongodb+srv://<username>:<password>@<cluster>.mongodb.net/<dbname>?retryWrites=true&w=majority\"\n",
    "\n",
    "# Database and collection names\n",
    "db_name = \"resume_db\"\n",
    "collection_name = \"resumes\"\n",
    "output_file = \"test_data.json\"\n",
    "try:\n",
    "    # Create a MongoClient\n",
    "    client = MongoClient(uri)\n",
    "\n",
    "    # Select the database\n",
    "    db = client[db_name]\n",
    "\n",
    "    # Select the collection\n",
    "    collection = db[collection_name]\n",
    "\n",
    "    # Retrieve all documents\n",
    "    all_data = list(collection.find())\n",
    "\n",
    "    if all_data:\n",
    "        # Save to JSON file using json_util for MongoDB-specific types\n",
    "        with open(output_file, 'w') as file:\n",
    "            json.dump(all_data, file, default=json_util.default, indent=4)\n",
    "        print(f\"Data successfully saved to {output_file}\")\n",
    "    else:\n",
    "        print(\"No documents found in the collection.\")\n",
    "    \n",
    "\n",
    "\n",
    "except Exception as e:\n",
    "    print(f\"Error retrieving data: {e}\")\n",
    "finally:\n",
    "    # Close the connection\n",
    "    client.close()\n",
    "    print(\"MongoDB connection closed\")"
   ]
  },
  {
   "cell_type": "code",
   "execution_count": null,
   "id": "634ac3cd",
   "metadata": {},
   "outputs": [],
   "source": []
  }
 ],
 "metadata": {
  "kernelspec": {
   "display_name": "cse575project",
   "language": "python",
   "name": "python3"
  },
  "language_info": {
   "codemirror_mode": {
    "name": "ipython",
    "version": 3
   },
   "file_extension": ".py",
   "mimetype": "text/x-python",
   "name": "python",
   "nbconvert_exporter": "python",
   "pygments_lexer": "ipython3",
   "version": "3.9.21"
  }
 },
 "nbformat": 4,
 "nbformat_minor": 5
}
